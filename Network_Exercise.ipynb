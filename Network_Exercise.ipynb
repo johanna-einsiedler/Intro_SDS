{
 "cells": [
  {
   "cell_type": "markdown",
   "metadata": {},
   "source": [
    "# Creating a Network"
   ]
  },
  {
   "cell_type": "markdown",
   "metadata": {},
   "source": [
    "We will use the data we have collected in yesterday's survey to create networks and later on visualize them.\n",
    "\n",
    "In this notebook we will  read in the survey results from a '.csv' file and then transform it into a network that we then can load in to Gephi for visualisation.\n",
    "\n",
    "To make this notebook run, you will need to install another package called 'networkx'.\n",
    "\n",
    "Do you still remember how you can install a package? If not, just take a look into the Installation Document to get reminded again."
   ]
  },
  {
   "cell_type": "code",
   "execution_count": 3,
   "metadata": {},
   "outputs": [],
   "source": [
    "import pandas as pd # pandas is a package that makes it easier to deal with dataframes\n",
    "import matplotlib.pyplot as plt # matplotlib is python's standard package for data plotting\n",
    "import seaborn as sns # seaborn will make your plots prettier\n",
    "from scraping_functions import * # we have prepared some functions in a separate file that will make your life easier which we are importing here\n",
    "%matplotlib inline \n",
    "import networkx as nx\n",
    "import itertools\n",
    "from create_network import *"
   ]
  },
  {
   "cell_type": "code",
   "execution_count": 5,
   "metadata": {},
   "outputs": [],
   "source": [
    "# read in the data\n",
    "df = pd.read_csv('test.csv')\n",
    "# rename the columns to make it easier to reference them\n",
    "df.columns = ['time','nickname','country','language','living_in_dk','age','bachelor','gender','hobbies','operating','food','screen','expectations','sds','wake_up']"
   ]
  },
  {
   "cell_type": "code",
   "execution_count": 6,
   "metadata": {},
   "outputs": [],
   "source": [
    "# convert everything to lowercase\n",
    "df = df.applymap(lambda s:s.lower()if type(s)==str else s)"
   ]
  },
  {
   "cell_type": "code",
   "execution_count": 7,
   "metadata": {},
   "outputs": [],
   "source": [
    "# currently the hobbies are listed in a string variable - this code converts them to a list\n",
    "hobbies_list = df['hobbies'].str.split(',',n=2,expand=False)\n",
    "df = df.drop('hobbies',axis=1)\n",
    "df = pd.concat([df,hobbies_list],axis=1)"
   ]
  },
  {
   "cell_type": "code",
   "execution_count": 8,
   "metadata": {},
   "outputs": [
    {
     "data": {
      "text/html": [
       "<div>\n",
       "<style scoped>\n",
       "    .dataframe tbody tr th:only-of-type {\n",
       "        vertical-align: middle;\n",
       "    }\n",
       "\n",
       "    .dataframe tbody tr th {\n",
       "        vertical-align: top;\n",
       "    }\n",
       "\n",
       "    .dataframe thead th {\n",
       "        text-align: right;\n",
       "    }\n",
       "</style>\n",
       "<table border=\"1\" class=\"dataframe\">\n",
       "  <thead>\n",
       "    <tr style=\"text-align: right;\">\n",
       "      <th></th>\n",
       "      <th>time</th>\n",
       "      <th>nickname</th>\n",
       "      <th>country</th>\n",
       "      <th>language</th>\n",
       "      <th>living_in_dk</th>\n",
       "      <th>age</th>\n",
       "      <th>bachelor</th>\n",
       "      <th>gender</th>\n",
       "      <th>operating</th>\n",
       "      <th>food</th>\n",
       "      <th>screen</th>\n",
       "      <th>expectations</th>\n",
       "      <th>sds</th>\n",
       "      <th>wake_up</th>\n",
       "      <th>hobbies</th>\n",
       "    </tr>\n",
       "  </thead>\n",
       "  <tbody>\n",
       "    <tr>\n",
       "      <th>0</th>\n",
       "      <td>18.08.2022 09:14:58</td>\n",
       "      <td>test_user1</td>\n",
       "      <td>denmark</td>\n",
       "      <td>danish</td>\n",
       "      <td>&gt;20 years</td>\n",
       "      <td>23</td>\n",
       "      <td>political science</td>\n",
       "      <td>male</td>\n",
       "      <td>windows</td>\n",
       "      <td>pizza</td>\n",
       "      <td>4 - 6 hours</td>\n",
       "      <td>fun :d</td>\n",
       "      <td>balbjakdfjlkdsjfads</td>\n",
       "      <td>3</td>\n",
       "      <td>[cycling,  reading,  cooking]</td>\n",
       "    </tr>\n",
       "    <tr>\n",
       "      <th>1</th>\n",
       "      <td>18.08.2022 09:15:53</td>\n",
       "      <td>test_user2</td>\n",
       "      <td>denmark</td>\n",
       "      <td>danish</td>\n",
       "      <td>&gt;20 years</td>\n",
       "      <td>25</td>\n",
       "      <td>business</td>\n",
       "      <td>female</td>\n",
       "      <td>mac</td>\n",
       "      <td>pasta</td>\n",
       "      <td>6 - 8 hours</td>\n",
       "      <td>meeting lots of new people</td>\n",
       "      <td>wanted to learn coding</td>\n",
       "      <td>1</td>\n",
       "      <td>[cycling,  horse riding,  swimming]</td>\n",
       "    </tr>\n",
       "    <tr>\n",
       "      <th>2</th>\n",
       "      <td>18.08.2022 09:18:09</td>\n",
       "      <td>test_user3</td>\n",
       "      <td>germany</td>\n",
       "      <td>german</td>\n",
       "      <td>5-10 years</td>\n",
       "      <td>27</td>\n",
       "      <td>engineering and computer science</td>\n",
       "      <td>male</td>\n",
       "      <td>windows</td>\n",
       "      <td>pizza</td>\n",
       "      <td>8 - 10 hours</td>\n",
       "      <td>cool people</td>\n",
       "      <td>just for fun</td>\n",
       "      <td>4</td>\n",
       "      <td>[cooking,  reading,  singing]</td>\n",
       "    </tr>\n",
       "    <tr>\n",
       "      <th>3</th>\n",
       "      <td>18.08.2022 09:19:02</td>\n",
       "      <td>test_user4</td>\n",
       "      <td>denmark</td>\n",
       "      <td>danish</td>\n",
       "      <td>&gt; 1 year</td>\n",
       "      <td>23</td>\n",
       "      <td>engineering and computer science</td>\n",
       "      <td>non-binary</td>\n",
       "      <td>windows</td>\n",
       "      <td>sushi</td>\n",
       "      <td>4 - 6 hours</td>\n",
       "      <td>nothing</td>\n",
       "      <td>sounds cool</td>\n",
       "      <td>4</td>\n",
       "      <td>[swimming,  running,  cycling]</td>\n",
       "    </tr>\n",
       "    <tr>\n",
       "      <th>4</th>\n",
       "      <td>18.08.2022 09:19:55</td>\n",
       "      <td>test_user5</td>\n",
       "      <td>argentina</td>\n",
       "      <td>spanish</td>\n",
       "      <td>&lt; 1 year</td>\n",
       "      <td>29</td>\n",
       "      <td>humanities</td>\n",
       "      <td>male</td>\n",
       "      <td>windows</td>\n",
       "      <td>pasta</td>\n",
       "      <td>&lt; 2 hours</td>\n",
       "      <td>sunshine</td>\n",
       "      <td>couldnt think of sth better</td>\n",
       "      <td>5</td>\n",
       "      <td>[running,  coding,  reading]</td>\n",
       "    </tr>\n",
       "  </tbody>\n",
       "</table>\n",
       "</div>"
      ],
      "text/plain": [
       "                  time    nickname    country language living_in_dk  age  \\\n",
       "0  18.08.2022 09:14:58  test_user1    denmark   danish    >20 years   23   \n",
       "1  18.08.2022 09:15:53  test_user2    denmark   danish    >20 years   25   \n",
       "2  18.08.2022 09:18:09  test_user3    germany   german   5-10 years   27   \n",
       "3  18.08.2022 09:19:02  test_user4    denmark   danish     > 1 year   23   \n",
       "4  18.08.2022 09:19:55  test_user5  argentina  spanish     < 1 year   29   \n",
       "\n",
       "                           bachelor      gender operating   food  \\\n",
       "0                 political science        male   windows  pizza   \n",
       "1                          business      female       mac  pasta   \n",
       "2  engineering and computer science        male   windows  pizza   \n",
       "3  engineering and computer science  non-binary   windows  sushi   \n",
       "4                        humanities        male   windows  pasta   \n",
       "\n",
       "         screen                expectations                          sds  \\\n",
       "0   4 - 6 hours                      fun :d          balbjakdfjlkdsjfads   \n",
       "1   6 - 8 hours  meeting lots of new people       wanted to learn coding   \n",
       "2  8 - 10 hours                 cool people                 just for fun   \n",
       "3   4 - 6 hours                     nothing                  sounds cool   \n",
       "4     < 2 hours                    sunshine  couldnt think of sth better   \n",
       "\n",
       "   wake_up                              hobbies  \n",
       "0        3        [cycling,  reading,  cooking]  \n",
       "1        1  [cycling,  horse riding,  swimming]  \n",
       "2        4        [cooking,  reading,  singing]  \n",
       "3        4       [swimming,  running,  cycling]  \n",
       "4        5         [running,  coding,  reading]  "
      ]
     },
     "execution_count": 8,
     "metadata": {},
     "output_type": "execute_result"
    }
   ],
   "source": [
    "# print the first few rows to see how the data looks like\n",
    "df.head()"
   ]
  },
  {
   "cell_type": "markdown",
   "metadata": {},
   "source": [
    "Now we will create a network from this dataframe. We will be doing this by saying that two people are connected if they share an attribute within a specific category.\n",
    "\n",
    "Using the function below you can easily create different types of networks. Just type in the name of the column that you want to use to establish a link between two individuals."
   ]
  },
  {
   "cell_type": "code",
   "execution_count": 201,
   "metadata": {},
   "outputs": [],
   "source": [
    "# create the network\n",
    "G = create_network(df, #put in your word)"
   ]
  },
  {
   "cell_type": "code",
   "execution_count": 203,
   "metadata": {},
   "outputs": [],
   "source": [
    "\n",
    "# now we export the network so you can load it into Gephi and visualise it\n",
    "nx.write_gexf(G, 'graph_gephi.gexf')"
   ]
  }
 ],
 "metadata": {
  "interpreter": {
   "hash": "1090635ad565549b1c5513f3f12edcba9de72fe8d41ded6a5ae8ab1be23432d8"
  },
  "kernelspec": {
   "display_name": "Python 3.9.7 ('base')",
   "language": "python",
   "name": "python3"
  },
  "language_info": {
   "codemirror_mode": {
    "name": "ipython",
    "version": 3
   },
   "file_extension": ".py",
   "mimetype": "text/x-python",
   "name": "python",
   "nbconvert_exporter": "python",
   "pygments_lexer": "ipython3",
   "version": "3.9.7"
  },
  "orig_nbformat": 4
 },
 "nbformat": 4,
 "nbformat_minor": 2
}
