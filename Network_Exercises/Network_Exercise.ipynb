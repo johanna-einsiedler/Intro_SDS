{
 "cells": [
  {
   "cell_type": "markdown",
   "metadata": {},
   "source": [
    "# Creating a Network"
   ]
  },
  {
   "cell_type": "markdown",
   "metadata": {},
   "source": [
    "We will use the data we have collected in yesterday's survey to create networks and later on visualize them.\n",
    "\n",
    "In this notebook we will  read in the survey results from an excel file.\n",
    "\n",
    "To make this notebook run, you will need to install a package called 'networkx'.\n",
    "\n",
    "Do you still remember how you can install a package? If not, just take a look into the Installation Document to get reminded again."
   ]
  },
  {
   "cell_type": "code",
   "execution_count": 1,
   "metadata": {},
   "outputs": [],
   "source": [
    "import pandas as pd # pandas is a package that makes it easier to deal with dataframes\n",
    "import matplotlib.pyplot as plt # matplotlib is python's standard package for data plotting\n",
    "%matplotlib inline \n",
    "import networkx as nx\n",
    "from create_network import *"
   ]
  },
  {
   "cell_type": "code",
   "execution_count": 2,
   "metadata": {},
   "outputs": [],
   "source": [
    "# read in the data \n",
    "df = pd.read_excel('sds_intro_2022.xlsx')"
   ]
  },
  {
   "cell_type": "markdown",
   "metadata": {},
   "source": [
    "Now lets have a look how the data looks like. The next cell will print the first couple of rows of the dataset we have just loaded."
   ]
  },
  {
   "cell_type": "code",
   "execution_count": 7,
   "metadata": {},
   "outputs": [
    {
     "data": {
      "text/html": [
       "<div>\n",
       "<style scoped>\n",
       "    .dataframe tbody tr th:only-of-type {\n",
       "        vertical-align: middle;\n",
       "    }\n",
       "\n",
       "    .dataframe tbody tr th {\n",
       "        vertical-align: top;\n",
       "    }\n",
       "\n",
       "    .dataframe thead th {\n",
       "        text-align: right;\n",
       "    }\n",
       "</style>\n",
       "<table border=\"1\" class=\"dataframe\">\n",
       "  <thead>\n",
       "    <tr style=\"text-align: right;\">\n",
       "      <th></th>\n",
       "      <th>nickname</th>\n",
       "      <th>country</th>\n",
       "      <th>language</th>\n",
       "      <th>living_in_dk</th>\n",
       "      <th>age</th>\n",
       "      <th>study</th>\n",
       "      <th>gender</th>\n",
       "      <th>hobbies</th>\n",
       "      <th>operating</th>\n",
       "      <th>food</th>\n",
       "      <th>screen_time</th>\n",
       "      <th>expectations</th>\n",
       "      <th>decision</th>\n",
       "      <th>wake_up</th>\n",
       "      <th>social_media</th>\n",
       "      <th>character</th>\n",
       "      <th>genre</th>\n",
       "      <th>fries_cheese</th>\n",
       "      <th>dietary</th>\n",
       "      <th>streaming</th>\n",
       "    </tr>\n",
       "  </thead>\n",
       "  <tbody>\n",
       "    <tr>\n",
       "      <th>0</th>\n",
       "      <td>MMM</td>\n",
       "      <td>Argentina</td>\n",
       "      <td>Spanish</td>\n",
       "      <td>&gt; 1 year</td>\n",
       "      <td>32</td>\n",
       "      <td>Humanities</td>\n",
       "      <td>Man</td>\n",
       "      <td>Music, sports, reading</td>\n",
       "      <td>Mac</td>\n",
       "      <td>Pizza, pasta</td>\n",
       "      <td>&lt; 2 hours</td>\n",
       "      <td>Learn more about data science</td>\n",
       "      <td>I was looking for a career change</td>\n",
       "      <td>4</td>\n",
       "      <td>Facebook, Twitter, Instagram</td>\n",
       "      <td>Main character</td>\n",
       "      <td>Avant-Garde / Experimental</td>\n",
       "      <td>Fries / chips for teeth</td>\n",
       "      <td>None</td>\n",
       "      <td>Amazon Prime, HBO, Netflix</td>\n",
       "    </tr>\n",
       "    <tr>\n",
       "      <th>1</th>\n",
       "      <td>bean</td>\n",
       "      <td>India</td>\n",
       "      <td>Hindi</td>\n",
       "      <td>&lt; 1 year</td>\n",
       "      <td>21</td>\n",
       "      <td>Business, Analytics</td>\n",
       "      <td>Prefer not to disclose</td>\n",
       "      <td>, ,</td>\n",
       "      <td>Windows</td>\n",
       "      <td>, ,</td>\n",
       "      <td>8 - 10 hours</td>\n",
       "      <td>NaN</td>\n",
       "      <td>Finding solutions in hidden sight</td>\n",
       "      <td>5</td>\n",
       "      <td>Facebook, Instagram, TikTok, Reddit, Snapchat,...</td>\n",
       "      <td>NaN</td>\n",
       "      <td>NaN</td>\n",
       "      <td>Fries / chips for teeth</td>\n",
       "      <td>None</td>\n",
       "      <td>Amazon Prime</td>\n",
       "    </tr>\n",
       "    <tr>\n",
       "      <th>2</th>\n",
       "      <td>Robin</td>\n",
       "      <td>China</td>\n",
       "      <td>Chinese</td>\n",
       "      <td>&lt; 1 year</td>\n",
       "      <td>22</td>\n",
       "      <td>Business</td>\n",
       "      <td>Man</td>\n",
       "      <td>Tennis, badminton, movie</td>\n",
       "      <td>Windows</td>\n",
       "      <td>Carrot, beef</td>\n",
       "      <td>8 - 10 hours</td>\n",
       "      <td>Getting familiar with others</td>\n",
       "      <td>Improve my data analysis skills</td>\n",
       "      <td>4</td>\n",
       "      <td>Facebook, Instagram, Weibo, Snapchat, WeChat, ...</td>\n",
       "      <td>Iron man</td>\n",
       "      <td>Drama</td>\n",
       "      <td>Mac-n-cheese for hair</td>\n",
       "      <td>None</td>\n",
       "      <td>Disney, Netflix</td>\n",
       "    </tr>\n",
       "    <tr>\n",
       "      <th>3</th>\n",
       "      <td>Donna</td>\n",
       "      <td>China</td>\n",
       "      <td>Chinese</td>\n",
       "      <td>&lt; 1 year</td>\n",
       "      <td>22</td>\n",
       "      <td>Psychology</td>\n",
       "      <td>Woman</td>\n",
       "      <td>dancing, running, reading</td>\n",
       "      <td>Mac</td>\n",
       "      <td>Fried chicken, curry</td>\n",
       "      <td>6 - 8 hours</td>\n",
       "      <td>Get engaged in this school and the community</td>\n",
       "      <td>Interests in the application of data science i...</td>\n",
       "      <td>4</td>\n",
       "      <td>Facebook, Twitter, Instagram, Discord, WeChat,...</td>\n",
       "      <td>NaN</td>\n",
       "      <td>Musical</td>\n",
       "      <td>Fries / chips for teeth</td>\n",
       "      <td>None</td>\n",
       "      <td>Netflix</td>\n",
       "    </tr>\n",
       "    <tr>\n",
       "      <th>4</th>\n",
       "      <td>miji</td>\n",
       "      <td>Austria</td>\n",
       "      <td>German</td>\n",
       "      <td>&lt; 1 year</td>\n",
       "      <td>24</td>\n",
       "      <td>Anthropology</td>\n",
       "      <td>Woman</td>\n",
       "      <td>Swimming, crocheting, dancing</td>\n",
       "      <td>Windows</td>\n",
       "      <td>Pasta, chocolate cake</td>\n",
       "      <td>4 - 6 hours</td>\n",
       "      <td>Fun and information</td>\n",
       "      <td>Interested in AI ethics</td>\n",
       "      <td>5</td>\n",
       "      <td>Instagram, Pintrest, Reddit, Snapchat, YouTube</td>\n",
       "      <td>Gmundl</td>\n",
       "      <td>Avant-Garde / Experimental</td>\n",
       "      <td>Mac-n-cheese for hair</td>\n",
       "      <td>Vegetarian</td>\n",
       "      <td>Netflix</td>\n",
       "    </tr>\n",
       "  </tbody>\n",
       "</table>\n",
       "</div>"
      ],
      "text/plain": [
       "  nickname    country  language living_in_dk  age                 study  \\\n",
       "0      MMM  Argentina  Spanish      > 1 year   32            Humanities   \n",
       "1     bean      India     Hindi     < 1 year   21  Business, Analytics    \n",
       "2    Robin      China   Chinese     < 1 year   22              Business   \n",
       "3    Donna      China  Chinese      < 1 year   22            Psychology   \n",
       "4     miji    Austria    German     < 1 year   24          Anthropology   \n",
       "\n",
       "                   gender                        hobbies operating  \\\n",
       "0                     Man        Music, sports, reading        Mac   \n",
       "1  Prefer not to disclose                           , ,    Windows   \n",
       "2                     Man       Tennis, badminton, movie   Windows   \n",
       "3                   Woman     dancing, running, reading        Mac   \n",
       "4                   Woman  Swimming, crocheting, dancing   Windows   \n",
       "\n",
       "                    food   screen_time  \\\n",
       "0           Pizza, pasta     < 2 hours   \n",
       "1                   , ,   8 - 10 hours   \n",
       "2          Carrot, beef   8 - 10 hours   \n",
       "3  Fried chicken, curry    6 - 8 hours   \n",
       "4  Pasta, chocolate cake   4 - 6 hours   \n",
       "\n",
       "                                    expectations  \\\n",
       "0                 Learn more about data science    \n",
       "1                                            NaN   \n",
       "2                   Getting familiar with others   \n",
       "3  Get engaged in this school and the community    \n",
       "4                           Fun and information    \n",
       "\n",
       "                                            decision  wake_up  \\\n",
       "0                 I was looking for a career change         4   \n",
       "1                  Finding solutions in hidden sight        5   \n",
       "2                    Improve my data analysis skills        4   \n",
       "3  Interests in the application of data science i...        4   \n",
       "4                           Interested in AI ethics         5   \n",
       "\n",
       "                                        social_media        character  \\\n",
       "0                       Facebook, Twitter, Instagram  Main character    \n",
       "1  Facebook, Instagram, TikTok, Reddit, Snapchat,...              NaN   \n",
       "2  Facebook, Instagram, Weibo, Snapchat, WeChat, ...         Iron man   \n",
       "3  Facebook, Twitter, Instagram, Discord, WeChat,...              NaN   \n",
       "4    Instagram, Pintrest, Reddit, Snapchat, YouTube            Gmundl   \n",
       "\n",
       "                        genre             fries_cheese     dietary  \\\n",
       "0  Avant-Garde / Experimental  Fries / chips for teeth        None   \n",
       "1                         NaN  Fries / chips for teeth        None   \n",
       "2                       Drama    Mac-n-cheese for hair        None   \n",
       "3                     Musical  Fries / chips for teeth        None   \n",
       "4  Avant-Garde / Experimental    Mac-n-cheese for hair  Vegetarian   \n",
       "\n",
       "                    streaming  \n",
       "0  Amazon Prime, HBO, Netflix  \n",
       "1                Amazon Prime  \n",
       "2             Disney, Netflix  \n",
       "3                     Netflix  \n",
       "4                     Netflix  "
      ]
     },
     "execution_count": 7,
     "metadata": {},
     "output_type": "execute_result"
    }
   ],
   "source": [
    "# look at the first couple of rows in the dataframe\n",
    "df.head()"
   ]
  },
  {
   "cell_type": "markdown",
   "metadata": {},
   "source": [
    "Now we will create a network from this dataframe. \n",
    "\n",
    "\n",
    "But first, let's have a look at the columns that we have in this dataset."
   ]
  },
  {
   "cell_type": "code",
   "execution_count": 8,
   "metadata": {},
   "outputs": [
    {
     "data": {
      "text/plain": [
       "Index(['nickname', 'country', 'language', 'living_in_dk', 'age', 'study',\n",
       "       'gender', 'hobbies', 'operating', 'food', 'screen_time', 'expectations',\n",
       "       'decision', 'wake_up', 'social_media', 'character', 'genre',\n",
       "       'fries_cheese', 'dietary', 'streaming'],\n",
       "      dtype='object')"
      ]
     },
     "execution_count": 8,
     "metadata": {},
     "output_type": "execute_result"
    }
   ],
   "source": [
    "df.columns"
   ]
  },
  {
   "cell_type": "markdown",
   "metadata": {},
   "source": [
    "\n",
    "We have prepared a function called 'create_network' that will do the heavy lifting here for you. \n",
    "\n",
    "\n",
    "By typing in a column name (don't forget the \" \") in the function below, you can choose which variable will be determining the links between nodes.\n",
    "\n",
    "You will see that the function creates different types of networks depending on the variable you put in - using what you learned about networks, can you spot the difference?\n",
    "\n",
    " Feel free to try out and play around with different ones. However, be aware, it might not work with every variable due to the different types/structures of the variables. "
   ]
  },
  {
   "cell_type": "code",
   "execution_count": 3,
   "metadata": {},
   "outputs": [],
   "source": [
    "# create the network\n",
    "G = create_network(df, #add a column name)"
   ]
  },
  {
   "cell_type": "code",
   "execution_count": 4,
   "metadata": {},
   "outputs": [],
   "source": [
    "# now we export the network & save it into the folder 'graphs' so you can load it into Gephi and visualise it\n",
    "nx.write_gexf(G, 'graphs/name-of-your-graph.gexf')"
   ]
  }
 ],
 "metadata": {
  "interpreter": {
   "hash": "1090635ad565549b1c5513f3f12edcba9de72fe8d41ded6a5ae8ab1be23432d8"
  },
  "kernelspec": {
   "display_name": "Python 3.9.7 ('base')",
   "language": "python",
   "name": "python3"
  },
  "language_info": {
   "codemirror_mode": {
    "name": "ipython",
    "version": 3
   },
   "file_extension": ".py",
   "mimetype": "text/x-python",
   "name": "python",
   "nbconvert_exporter": "python",
   "pygments_lexer": "ipython3",
   "version": "3.9.7"
  },
  "orig_nbformat": 4
 },
 "nbformat": 4,
 "nbformat_minor": 2
}
